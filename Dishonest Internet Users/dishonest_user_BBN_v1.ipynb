{
 "cells": [
  {
   "cell_type": "markdown",
   "metadata": {},
   "source": [
    "# Naive Bayes with Liklihood Ratios on Dishonest User Dataset\n",
    "**Author:** Kalea Sebesta<br>\n",
    "**Date:** 15 Oct 2018<br>\n",
    "\n",
    "**Dataset:** UC Irvine https://archive.ics.uci.edu/ml/datasets/Dishonest+Internet+users+Dataset#\n",
    "\n",
    "**Purpose:** The purpose of this notebook is to apply a naive bayes algorithm for a classification problem on a dishonest internet user dataset and calculate likelihood ratios to see feature relationships as they correspond to an outcome of TS (trustworthyness). In order to accomplish this, the data will need to be preprocessed prior to applying the gaussian naive bayes classifier. This will also include encoding cateogrical variables, spliting the data into training and test set and applying SMOTE (Synthetic Minority Oversampling Techneque). Training, testing, and validating results will be compared and likelihood ratios calculated to better understand the feature relationships that are occurring."
   ]
  },
  {
   "cell_type": "code",
   "execution_count": 257,
   "metadata": {},
   "outputs": [],
   "source": [
    "import pandas as pd\n",
    "import numpy as np\n",
    "from sklearn.naive_bayes import GaussianNB\n",
    "from sklearn import preprocessing\n",
    "from sklearn.model_selection import train_test_split\n",
    "from sklearn.preprocessing import StandardScaler\n",
    "from sklearn.metrics import confusion_matrix\n",
    "from imblearn.over_sampling import SMOTE\n",
    "from sklearn.metrics import recall_score\n",
    "from sklearn.ensemble import RandomForestClassifier\n",
    "import random\n",
    "from sklearn.model_selection import cross_val_score\n",
    "from sklearn.metrics import accuracy_score\n",
    "from sklearn.metrics import recall_score\n",
    "import matplotlib as plt"
   ]
  },
  {
   "cell_type": "markdown",
   "metadata": {},
   "source": [
    "## Read in Data"
   ]
  },
  {
   "cell_type": "code",
   "execution_count": 258,
   "metadata": {},
   "outputs": [
    {
     "data": {
      "text/html": [
       "<div>\n",
       "<style scoped>\n",
       "    .dataframe tbody tr th:only-of-type {\n",
       "        vertical-align: middle;\n",
       "    }\n",
       "\n",
       "    .dataframe tbody tr th {\n",
       "        vertical-align: top;\n",
       "    }\n",
       "\n",
       "    .dataframe thead th {\n",
       "        text-align: right;\n",
       "    }\n",
       "</style>\n",
       "<table border=\"1\" class=\"dataframe\">\n",
       "  <thead>\n",
       "    <tr style=\"text-align: right;\">\n",
       "      <th></th>\n",
       "      <th>CT</th>\n",
       "      <th>CU</th>\n",
       "      <th>LT</th>\n",
       "      <th>TC</th>\n",
       "      <th>TS</th>\n",
       "      <th>User_Status</th>\n",
       "      <th>TA</th>\n",
       "    </tr>\n",
       "  </thead>\n",
       "  <tbody>\n",
       "    <tr>\n",
       "      <th>0</th>\n",
       "      <td>CT_range_4</td>\n",
       "      <td>CU_range_1</td>\n",
       "      <td>LT_range_4</td>\n",
       "      <td>sport</td>\n",
       "      <td>untrustworthy</td>\n",
       "      <td>fair</td>\n",
       "      <td>BM</td>\n",
       "    </tr>\n",
       "    <tr>\n",
       "      <th>1</th>\n",
       "      <td>CT_range_4</td>\n",
       "      <td>CU_range_1</td>\n",
       "      <td>LT_range_4</td>\n",
       "      <td>sport</td>\n",
       "      <td>untrustworthy</td>\n",
       "      <td>fair</td>\n",
       "      <td>BM</td>\n",
       "    </tr>\n",
       "    <tr>\n",
       "      <th>2</th>\n",
       "      <td>CT_range_1</td>\n",
       "      <td>CU_range_4</td>\n",
       "      <td>LT_range_4</td>\n",
       "      <td>sport</td>\n",
       "      <td>trustworthy</td>\n",
       "      <td>fair</td>\n",
       "      <td>BM</td>\n",
       "    </tr>\n",
       "    <tr>\n",
       "      <th>3</th>\n",
       "      <td>CT_range_2</td>\n",
       "      <td>CU_range_1</td>\n",
       "      <td>LT_range_4</td>\n",
       "      <td>sport</td>\n",
       "      <td>trustworthy</td>\n",
       "      <td>fair</td>\n",
       "      <td>BM</td>\n",
       "    </tr>\n",
       "    <tr>\n",
       "      <th>4</th>\n",
       "      <td>CT_range_3</td>\n",
       "      <td>CU_range_1</td>\n",
       "      <td>LT_range_4</td>\n",
       "      <td>sport</td>\n",
       "      <td>trustworthy</td>\n",
       "      <td>fair</td>\n",
       "      <td>BM</td>\n",
       "    </tr>\n",
       "  </tbody>\n",
       "</table>\n",
       "</div>"
      ],
      "text/plain": [
       "           CT          CU          LT     TC             TS User_Status  TA\n",
       "0  CT_range_4  CU_range_1  LT_range_4  sport  untrustworthy        fair  BM\n",
       "1  CT_range_4  CU_range_1  LT_range_4  sport  untrustworthy        fair  BM\n",
       "2  CT_range_1  CU_range_4  LT_range_4  sport    trustworthy        fair  BM\n",
       "3  CT_range_2  CU_range_1  LT_range_4  sport    trustworthy        fair  BM\n",
       "4  CT_range_3  CU_range_1  LT_range_4  sport    trustworthy        fair  BM"
      ]
     },
     "execution_count": 258,
     "metadata": {},
     "output_type": "execute_result"
    }
   ],
   "source": [
    "#read in data\n",
    "df = pd.read_csv('Dishonest_Internet_User_Expanded.csv')\n",
    "df.head()"
   ]
  },
  {
   "cell_type": "markdown",
   "metadata": {},
   "source": [
    "\n",
    "## Data Preprocessing"
   ]
  },
  {
   "cell_type": "code",
   "execution_count": 259,
   "metadata": {},
   "outputs": [],
   "source": [
    "#preprocess data\n",
    "# creating a dict file\n",
    "target = df['TS']\n",
    "TS = {'untrustworthy': 1,'trustworthy': 0} \n",
    "\n",
    "# traversing through dataframe \n",
    "# TS column and writing \n",
    "# values where key matches \n",
    "target = [TS[item] for item in target] "
   ]
  },
  {
   "cell_type": "code",
   "execution_count": 260,
   "metadata": {},
   "outputs": [
    {
     "data": {
      "text/plain": [
       "trustworthy      3178\n",
       "untrustworthy    1652\n",
       "Name: TS, dtype: int64"
      ]
     },
     "execution_count": 260,
     "metadata": {},
     "output_type": "execute_result"
    },
    {
     "data": {
      "image/png": "[encoded data removed]",
      "text/plain": [
       "<Figure size 432x288 with 1 Axes>"
      ]
     },
     "metadata": {},
     "output_type": "display_data"
    }
   ],
   "source": [
    "pd.value_counts(df['TS']).plot.bar()\n",
    "df['TS'].value_counts()"
   ]
  },
  {
   "cell_type": "markdown",
   "metadata": {},
   "source": [
    "### Encode Categorical Variables"
   ]
  },
  {
   "cell_type": "code",
   "execution_count": 261,
   "metadata": {},
   "outputs": [],
   "source": [
    "#encode categorical variables\n",
    "#label encodered used thus maps are made alphebetically\n",
    "#range_1 maps to 0, range_2 maps to 1, range_3 maps to 2, range_4 maps to 3\n",
    "#ECommerce maps to 0, game maps to 1, holiday maps to 2, sport maps to 3"
   ]
  },
  {
   "cell_type": "code",
   "execution_count": 262,
   "metadata": {},
   "outputs": [],
   "source": [
    "features = df.drop(['TS'], axis = 1)"
   ]
  },
  {
   "cell_type": "code",
   "execution_count": 263,
   "metadata": {},
   "outputs": [],
   "source": [
    "features = features.apply(preprocessing.LabelEncoder().fit_transform)"
   ]
  },
  {
   "cell_type": "code",
   "execution_count": 264,
   "metadata": {},
   "outputs": [
    {
     "data": {
      "text/html": [
       "<div>\n",
       "<style scoped>\n",
       "    .dataframe tbody tr th:only-of-type {\n",
       "        vertical-align: middle;\n",
       "    }\n",
       "\n",
       "    .dataframe tbody tr th {\n",
       "        vertical-align: top;\n",
       "    }\n",
       "\n",
       "    .dataframe thead th {\n",
       "        text-align: right;\n",
       "    }\n",
       "</style>\n",
       "<table border=\"1\" class=\"dataframe\">\n",
       "  <thead>\n",
       "    <tr style=\"text-align: right;\">\n",
       "      <th></th>\n",
       "      <th>CT</th>\n",
       "      <th>CU</th>\n",
       "      <th>LT</th>\n",
       "      <th>TC</th>\n",
       "      <th>User_Status</th>\n",
       "      <th>TA</th>\n",
       "    </tr>\n",
       "  </thead>\n",
       "  <tbody>\n",
       "    <tr>\n",
       "      <th>0</th>\n",
       "      <td>3</td>\n",
       "      <td>0</td>\n",
       "      <td>3</td>\n",
       "      <td>3</td>\n",
       "      <td>0</td>\n",
       "      <td>0</td>\n",
       "    </tr>\n",
       "    <tr>\n",
       "      <th>1</th>\n",
       "      <td>3</td>\n",
       "      <td>0</td>\n",
       "      <td>3</td>\n",
       "      <td>3</td>\n",
       "      <td>0</td>\n",
       "      <td>0</td>\n",
       "    </tr>\n",
       "    <tr>\n",
       "      <th>2</th>\n",
       "      <td>0</td>\n",
       "      <td>2</td>\n",
       "      <td>3</td>\n",
       "      <td>3</td>\n",
       "      <td>0</td>\n",
       "      <td>0</td>\n",
       "    </tr>\n",
       "    <tr>\n",
       "      <th>3</th>\n",
       "      <td>1</td>\n",
       "      <td>0</td>\n",
       "      <td>3</td>\n",
       "      <td>3</td>\n",
       "      <td>0</td>\n",
       "      <td>0</td>\n",
       "    </tr>\n",
       "    <tr>\n",
       "      <th>4</th>\n",
       "      <td>2</td>\n",
       "      <td>0</td>\n",
       "      <td>3</td>\n",
       "      <td>3</td>\n",
       "      <td>0</td>\n",
       "      <td>0</td>\n",
       "    </tr>\n",
       "  </tbody>\n",
       "</table>\n",
       "</div>"
      ],
      "text/plain": [
       "   CT  CU  LT  TC  User_Status  TA\n",
       "0   3   0   3   3            0   0\n",
       "1   3   0   3   3            0   0\n",
       "2   0   2   3   3            0   0\n",
       "3   1   0   3   3            0   0\n",
       "4   2   0   3   3            0   0"
      ]
     },
     "execution_count": 264,
     "metadata": {},
     "output_type": "execute_result"
    }
   ],
   "source": [
    "features.head()"
   ]
  },
  {
   "cell_type": "code",
   "execution_count": 265,
   "metadata": {},
   "outputs": [],
   "source": [
    "#transform features\n",
    "features = StandardScaler().fit_transform(features)"
   ]
  },
  {
   "cell_type": "markdown",
   "metadata": {},
   "source": [
    "### Split Data into Train/Test"
   ]
  },
  {
   "cell_type": "code",
   "execution_count": 266,
   "metadata": {},
   "outputs": [],
   "source": [
    "#split data into train and testing sets\n",
    "X_train, X_test, y_train, y_test = train_test_split(features, target, test_size=0.20, random_state=42)"
   ]
  },
  {
   "cell_type": "markdown",
   "metadata": {},
   "source": [
    "### Apply SMOTE"
   ]
  },
  {
   "cell_type": "code",
   "execution_count": 267,
   "metadata": {},
   "outputs": [],
   "source": [
    "#smote to balance dataset\n",
    "sm = SMOTE(random_state=12)\n",
    "x_train_res, y_train_res = sm.fit_sample(X_train, y_train)"
   ]
  },
  {
   "cell_type": "markdown",
   "metadata": {},
   "source": [
    "## Create Model and Confusion Matrix"
   ]
  },
  {
   "cell_type": "code",
   "execution_count": 283,
   "metadata": {},
   "outputs": [
    {
     "name": "stdout",
     "output_type": "stream",
     "text": [
      "Number of mislabeled points out of a total 5138 SMOTE points : 238\n",
      "                  Predicted Value\n",
      " Actual      |Trustworthy| Untrustworthy|\n",
      "Trustworthy  |  528          81         \n",
      "Untrustworthy|  157          200        \n",
      "\n",
      "Test Accuracy Score using SMOTE Training to predict y_test split: 0.7536231884057971\n",
      "Test Sensitivity Score using SMOTE Training to predict y_test split: 0.71360958176374\n"
     ]
    }
   ],
   "source": [
    "#Create a Gaussian Classifier\n",
    "model = GaussianNB()\n",
    "\n",
    "# Train the model using the training sets \n",
    "model.fit(x_train_res, y_train_res)\n",
    "\n",
    "#Predict Output \n",
    "y_pred = model.predict(X_test)\n",
    "\n",
    "#display mislabeled output\n",
    "print(\"Number of mislabeled points out of a total %d SMOTE points : %d\"%(x_train_res.shape[0],(y_test != y_pred).sum()))\n",
    "\n",
    "confusion_matrix(y_test, y_pred)\n",
    "tn, fp, fn, tp = confusion_matrix(y_test,y_pred).ravel()\n",
    "tn, fp, fn, tp\n",
    "\n",
    "#display confusion matrix\n",
    "print('                  Predicted Value')\n",
    "print(' Actual      |Trustworthy| Untrustworthy|')\n",
    "print('Trustworthy  |  {}          {}         '.format(tn, fp))\n",
    "print('Untrustworthy|  {}          {}        \\n'.format(fn, tp))\n",
    "\n",
    "print('Test Accuracy Score using SMOTE Training to predict y_test split: {}'.format(accuracy_score(y_test, y_pred)))\n",
    "print('Test Sensitivity Score using SMOTE Training to predict y_test split: {}'.format(recall_score(y_test, y_pred, average = 'macro')))"
   ]
  },
  {
   "cell_type": "markdown",
   "metadata": {},
   "source": [
    "## Comparing Results\n",
    "Training the model using the smote train split data set to then predict the testing set results in an accuracy of 75.36% and a sensitivity of 71.35%. As a first attempt with a relatively small dataset these results aren't terrible they also aren't amazing this model is a good starting point. The confusion matrix shows that out of 5138 data points there were 238 mislabeled points. These mislabeled points were in both the false negative and false positive variables. More importantly than the accuracy of 75% is the fact that even in the unbalanced dataset the model is correctly identifying an untrustworthy user 71% of the time."
   ]
  },
  {
   "cell_type": "markdown",
   "metadata": {},
   "source": [
    "## Bayes Likelihood Ratios\n",
    "**Purpose:** Likelihood will allow for relationships of impact to be seen. The BBN is harder to interpret verses the logistic regression coefficients when examining variable effects on the dependent variable. The BBN is constructed by calculating the conditional probabilities on nodes/leaves. One way to get the effects of the variable on the dependent variable is by finding the likelihood ratio for \"User_status = untrustworthy\". For example, let’s say A and B are two factors having an effect on \"untrustworthy.\" Then, you could calculate the ratio of:\n",
    "\n",
    "$$LR=\\frac{Prob(untrustworthy | A=2, B=3)}{Prob(untrustworthy | A=1, B=3)}$$\n",
    "\n",
    "And the result would be interpreted as, when B is fixed at 3 the increase in the user being untrustworthy is LR more time likely with one unit increase in A."
   ]
  },
  {
   "cell_type": "markdown",
   "metadata": {},
   "source": [
    "## Create Functions For Calculating Likeilhood Ratios"
   ]
  },
  {
   "cell_type": "code",
   "execution_count": 199,
   "metadata": {},
   "outputs": [],
   "source": [
    "def likelihood_ratio(fixed_var, fixed_var_value, var, var_value):\n",
    "    #likelihood ratio for CT from 0 to 1 with CU fixed at 2\n",
    "    #find the number of rows where CT = 1 and CU =2\n",
    "    df=data[data[var]==var_value]\n",
    "    X=len(df[df[fixed_var]==fixed_var_value])\n",
    "\n",
    "    #find the number of rows for CT being 0 and CU 2\n",
    "    df=data[data[var]==var_value-1]\n",
    "    Y=len(df[df[fixed_var]==fixed_var_value])\n",
    "    \n",
    "    #find number of rows when Tuntrustworthy is 1 for CT=1 CU=2\n",
    "    df=data[data['TS']==1]\n",
    "    df2=df[df[var]==var_value]\n",
    "    numerator=len(df2[df2[fixed_var]==fixed_var_value])\n",
    "    \n",
    "    #find number of rows when TS is 1 for CT=0 CU=2\n",
    "    df=data[data['TS']==1]\n",
    "    df2=df[df[var]==var_value-1]\n",
    "    denominator=len(df2[df2[fixed_var]==fixed_var_value])\n",
    "    \n",
    "    #likelihood ratio\n",
    "    LR= (numerator/X)/(denominator/Y)\n",
    "    return LR"
   ]
  },
  {
   "cell_type": "code",
   "execution_count": 253,
   "metadata": {},
   "outputs": [],
   "source": [
    "#create function to loop through all possible combinations of variables to calculate likelihoon ratios\n",
    "def display_likelihoods(var1, var2):\n",
    "        for i in range(4):\n",
    "            for m in range(4):\n",
    "                try:\n",
    "                    likelihood_ratio(var1,i ,var2, m)\n",
    "                    print('Value for var1 = {}, Value for var2 = {}, Var1 = {}, Var2 = {}, Likelihood Ratio = {}'.format(i, m, var1, var2, likelihood_ratio(var1,i ,var2, m)))\n",
    "                except Exception:\n",
    "                    #print('Error var 1 value{}, var 2 value{}'.format(i,m))\n",
    "                    continue\n",
    "    "
   ]
  },
  {
   "cell_type": "markdown",
   "metadata": {},
   "source": [
    "## Read in and Preprocess Data\n",
    "We want to have all of the data including the target variable and encode the categorical features."
   ]
  },
  {
   "cell_type": "code",
   "execution_count": 192,
   "metadata": {},
   "outputs": [],
   "source": [
    "data = pd.read_csv('Dishonest_Internet_User_Expanded.csv')\n",
    "data = data.apply(preprocessing.LabelEncoder().fit_transform)"
   ]
  },
  {
   "cell_type": "markdown",
   "metadata": {},
   "source": [
    "### Apply Likihood Ratio Functions and Display Results\n",
    "In order to apply the above functions, I will identify one of the variables as var1 and include all other variabes excluding the target variable in the var_list. This way I can loop through and get the likelihood ratios. The following ratios are those that were the most significant, having higher impact on the user being untrustworthy:\n",
    "\n",
    "\n",
    "\n",
    "- Given LT is 0 (LT_range_1) it is 11.75 times more likely that the user is untrustworthy when User_Status decreases by 1 (goes from unfair to fair)\n",
    "- Given User_Status is 0 (Fair) it is 10.195 times more likely that the user is untrustworthy when LT decreases by 1 (goes from LT_range_2 to LT_range_1)\n",
    "- Given TA is 1 (BS) it is 9.63 times more likely that the user is untrustworthy when LT decreases by 1 (goes from LT_range_2 to LT_range_1)\n",
    "- Given CT is 3 (LT_range_4) it is 7.79 times more likely that the user is untrustworthy when TC decreases by 1 (goes from Sport to holiday)\n",
    "- Given TC is 3 (Sport) it is 6.12 times more likely that the user is untrustworthy when CT decreases by 1 (goes from CT_range_4 to CT_range_3)\n",
    "- Given LT is 3 (LT_range_4) it is 5.69 times more likely that the user is untrustworthy when CT decreases by 1 (goes from CT_range_4 to CT_range_3)\n",
    "- Given LT is 1 (LT_range_2) it is 5.3 times more likely that the user is untrustworthy when TC decreases by 1 (goes from Sport to holiday)\n"
   ]
  },
  {
   "cell_type": "code",
   "execution_count": 254,
   "metadata": {},
   "outputs": [],
   "source": [
    "var1 = 'LT'\n",
    "var_list = ['TC', 'CU', 'CT', 'TA', 'User_Status']"
   ]
  },
  {
   "cell_type": "code",
   "execution_count": 255,
   "metadata": {},
   "outputs": [
    {
     "name": "stdout",
     "output_type": "stream",
     "text": [
      "Value for var1 = 0, Value for var2 = 1, Var1 = LT, Var2 = TC, Likelihood Ratio = 0.19488188976377954\n",
      "Value for var1 = 0, Value for var2 = 2, Var1 = LT, Var2 = TC, Likelihood Ratio = 0.9692101740294512\n",
      "Value for var1 = 1, Value for var2 = 2, Var1 = LT, Var2 = TC, Likelihood Ratio = 5.300775193798449\n",
      "Value for var1 = 3, Value for var2 = 1, Var1 = LT, Var2 = TC, Likelihood Ratio = 0.12295081967213115\n",
      "Value for var1 = 3, Value for var2 = 1, Var1 = LT, Var2 = CU, Likelihood Ratio = 0.360036832412523\n",
      "Value for var1 = 3, Value for var2 = 2, Var1 = LT, Var2 = CU, Likelihood Ratio = 4.252371916508539\n",
      "Value for var1 = 3, Value for var2 = 3, Var1 = LT, Var2 = CU, Likelihood Ratio = 1.5562248995983936\n",
      "Value for var1 = 3, Value for var2 = 1, Var1 = LT, Var2 = CT, Likelihood Ratio = 0.3612750885478158\n",
      "Value for var1 = 3, Value for var2 = 2, Var1 = LT, Var2 = CT, Likelihood Ratio = 0.875\n",
      "Value for var1 = 3, Value for var2 = 3, Var1 = LT, Var2 = CT, Likelihood Ratio = 5.6990476190476205\n",
      "Value for var1 = 0, Value for var2 = 1, Var1 = LT, Var2 = TA, Likelihood Ratio = 0.2733812949640288\n",
      "Value for var1 = 0, Value for var2 = 2, Var1 = LT, Var2 = TA, Likelihood Ratio = 5.197368421052632\n",
      "Value for var1 = 0, Value for var2 = 3, Var1 = LT, Var2 = TA, Likelihood Ratio = 1.5949367088607596\n",
      "Value for var1 = 1, Value for var2 = 1, Var1 = LT, Var2 = TA, Likelihood Ratio = 0.6830357142857142\n",
      "Value for var1 = 1, Value for var2 = 2, Var1 = LT, Var2 = TA, Likelihood Ratio = 1.1601307189542485\n",
      "Value for var1 = 1, Value for var2 = 3, Var1 = LT, Var2 = TA, Likelihood Ratio = 1.0422535211267605\n",
      "Value for var1 = 2, Value for var2 = 1, Var1 = LT, Var2 = TA, Likelihood Ratio = 0.0\n",
      "Value for var1 = 2, Value for var2 = 3, Var1 = LT, Var2 = TA, Likelihood Ratio = 1.5\n",
      "Value for var1 = 3, Value for var2 = 1, Var1 = LT, Var2 = TA, Likelihood Ratio = 0.5648854961832062\n",
      "Value for var1 = 3, Value for var2 = 2, Var1 = LT, Var2 = TA, Likelihood Ratio = 1.7229729729729728\n",
      "Value for var1 = 3, Value for var2 = 3, Var1 = LT, Var2 = TA, Likelihood Ratio = 1.0980392156862746\n",
      "Value for var1 = 0, Value for var2 = 1, Var1 = LT, Var2 = User_Status, Likelihood Ratio = 11.746579007721122\n",
      "Value for var1 = 1, Value for var2 = 1, Var1 = LT, Var2 = User_Status, Likelihood Ratio = 0.2645009824686758\n",
      "Value for var1 = 3, Value for var2 = 1, Var1 = LT, Var2 = User_Status, Likelihood Ratio = 1.6001065716964462\n"
     ]
    }
   ],
   "source": [
    "for var in var_list:\n",
    "    display_likelihoods(var1,var)"
   ]
  },
  {
   "cell_type": "code",
   "execution_count": 284,
   "metadata": {},
   "outputs": [],
   "source": [
    "var1 = 'TC'\n",
    "var_list = ['LT', 'CU', 'CT', 'TA', 'User_Status']"
   ]
  },
  {
   "cell_type": "code",
   "execution_count": 285,
   "metadata": {},
   "outputs": [
    {
     "name": "stdout",
     "output_type": "stream",
     "text": [
      "Value for var1 = 1, Value for var2 = 1, Var1 = TC, Var2 = LT, Likelihood Ratio = 1.0256410256410258\n",
      "Value for var1 = 1, Value for var2 = 2, Var1 = TC, Var2 = LT, Likelihood Ratio = 1.011111111111111\n",
      "Value for var1 = 1, Value for var2 = 3, Var1 = TC, Var2 = LT, Likelihood Ratio = 0.6428571428571429\n",
      "Value for var1 = 2, Value for var2 = 1, Var1 = TC, Var2 = LT, Likelihood Ratio = 5.609405113709366\n",
      "Value for var1 = 0, Value for var2 = 3, Var1 = TC, Var2 = CU, Likelihood Ratio = 1.0476878612716765\n",
      "Value for var1 = 3, Value for var2 = 1, Var1 = TC, Var2 = CU, Likelihood Ratio = 0.3525224388734138\n",
      "Value for var1 = 3, Value for var2 = 2, Var1 = TC, Var2 = CU, Likelihood Ratio = 1.2217194570135748\n",
      "Value for var1 = 2, Value for var2 = 1, Var1 = TC, Var2 = CT, Likelihood Ratio = 5.566501175855762\n",
      "Value for var1 = 3, Value for var2 = 1, Var1 = TC, Var2 = CT, Likelihood Ratio = 1.0568181818181819\n",
      "Value for var1 = 3, Value for var2 = 2, Var1 = TC, Var2 = CT, Likelihood Ratio = 0.875\n",
      "Value for var1 = 3, Value for var2 = 3, Var1 = TC, Var2 = CT, Likelihood Ratio = 6.126293995859213\n",
      "Value for var1 = 0, Value for var2 = 1, Var1 = TC, Var2 = TA, Likelihood Ratio = 0.6967741935483871\n",
      "Value for var1 = 0, Value for var2 = 2, Var1 = TC, Var2 = TA, Likelihood Ratio = 1.099537037037037\n",
      "Value for var1 = 0, Value for var2 = 3, Var1 = TC, Var2 = TA, Likelihood Ratio = 0.5473684210526316\n",
      "Value for var1 = 1, Value for var2 = 1, Var1 = TC, Var2 = TA, Likelihood Ratio = 0.0\n",
      "Value for var1 = 1, Value for var2 = 3, Var1 = TC, Var2 = TA, Likelihood Ratio = 1.8235294117647058\n",
      "Value for var1 = 2, Value for var2 = 1, Var1 = TC, Var2 = TA, Likelihood Ratio = 0.5795454545454545\n",
      "Value for var1 = 2, Value for var2 = 2, Var1 = TC, Var2 = TA, Likelihood Ratio = 1.781045751633987\n",
      "Value for var1 = 2, Value for var2 = 3, Var1 = TC, Var2 = TA, Likelihood Ratio = 1.3211009174311925\n",
      "Value for var1 = 3, Value for var2 = 1, Var1 = TC, Var2 = TA, Likelihood Ratio = 0.48750000000000004\n",
      "Value for var1 = 3, Value for var2 = 2, Var1 = TC, Var2 = TA, Likelihood Ratio = 2.2275641025641026\n",
      "Value for var1 = 3, Value for var2 = 3, Var1 = TC, Var2 = TA, Likelihood Ratio = 1.3237410071942448\n",
      "Value for var1 = 0, Value for var2 = 1, Var1 = TC, Var2 = User_Status, Likelihood Ratio = 0.0\n",
      "Value for var1 = 2, Value for var2 = 1, Var1 = TC, Var2 = User_Status, Likelihood Ratio = 1.8237642585551332\n",
      "Value for var1 = 3, Value for var2 = 1, Var1 = TC, Var2 = User_Status, Likelihood Ratio = 3.08647163407144\n"
     ]
    }
   ],
   "source": [
    "for var in var_list:\n",
    "    display_likelihoods(var1,var)"
   ]
  },
  {
   "cell_type": "code",
   "execution_count": 286,
   "metadata": {},
   "outputs": [],
   "source": [
    "var1 = 'CU'\n",
    "var_list = ['LT', 'TC', 'CT', 'TA', 'User_Status']"
   ]
  },
  {
   "cell_type": "code",
   "execution_count": 287,
   "metadata": {},
   "outputs": [
    {
     "name": "stdout",
     "output_type": "stream",
     "text": [
      "Value for var1 = 0, Value for var2 = 1, Var1 = CU, Var2 = LT, Likelihood Ratio = 4.5063257775434895\n",
      "Value for var1 = 0, Value for var2 = 2, Var1 = CU, Var2 = LT, Likelihood Ratio = 0.23501199040767387\n",
      "Value for var1 = 0, Value for var2 = 3, Var1 = CU, Var2 = LT, Likelihood Ratio = 2.248447204968944\n",
      "Value for var1 = 0, Value for var2 = 2, Var1 = CU, Var2 = TC, Likelihood Ratio = 2.4896983075791024\n",
      "Value for var1 = 0, Value for var2 = 3, Var1 = CU, Var2 = TC, Likelihood Ratio = 0.954928328653761\n",
      "Value for var1 = 0, Value for var2 = 1, Var1 = CU, Var2 = CT, Likelihood Ratio = 4.018496110630942\n",
      "Value for var1 = 0, Value for var2 = 2, Var1 = CU, Var2 = CT, Likelihood Ratio = 0.21618625277161863\n",
      "Value for var1 = 0, Value for var2 = 3, Var1 = CU, Var2 = CT, Likelihood Ratio = 2.408385093167702\n",
      "Value for var1 = 0, Value for var2 = 1, Var1 = CU, Var2 = TA, Likelihood Ratio = 0.5054704595185996\n",
      "Value for var1 = 0, Value for var2 = 2, Var1 = CU, Var2 = TA, Likelihood Ratio = 2.1266233766233764\n",
      "Value for var1 = 0, Value for var2 = 3, Var1 = CU, Var2 = TA, Likelihood Ratio = 1.3842239185750638\n",
      "Value for var1 = 1, Value for var2 = 1, Var1 = CU, Var2 = TA, Likelihood Ratio = 0.0\n",
      "Value for var1 = 1, Value for var2 = 3, Var1 = CU, Var2 = TA, Likelihood Ratio = 1.5999999999999999\n",
      "Value for var1 = 2, Value for var2 = 1, Var1 = CU, Var2 = TA, Likelihood Ratio = 0.6688741721854304\n",
      "Value for var1 = 2, Value for var2 = 2, Var1 = CU, Var2 = TA, Likelihood Ratio = 1.2995049504950495\n",
      "Value for var1 = 2, Value for var2 = 3, Var1 = CU, Var2 = TA, Likelihood Ratio = 0.7238095238095238\n",
      "Value for var1 = 3, Value for var2 = 1, Var1 = CU, Var2 = TA, Likelihood Ratio = 0.7\n",
      "Value for var1 = 3, Value for var2 = 2, Var1 = CU, Var2 = TA, Likelihood Ratio = 1.25\n",
      "Value for var1 = 3, Value for var2 = 3, Var1 = CU, Var2 = TA, Likelihood Ratio = 0.5714285714285714\n",
      "Value for var1 = 0, Value for var2 = 1, Var1 = CU, Var2 = User_Status, Likelihood Ratio = 2.824431464888943\n",
      "Value for var1 = 2, Value for var2 = 1, Var1 = CU, Var2 = User_Status, Likelihood Ratio = 0.3723223393403604\n",
      "Value for var1 = 3, Value for var2 = 1, Var1 = CU, Var2 = User_Status, Likelihood Ratio = 0.0\n"
     ]
    }
   ],
   "source": [
    "for var in var_list:\n",
    "    display_likelihoods(var1,var)"
   ]
  },
  {
   "cell_type": "code",
   "execution_count": 288,
   "metadata": {},
   "outputs": [],
   "source": [
    "var1 = 'CT'\n",
    "var_list = ['LT', 'TC', 'CU', 'TA', 'User_Status']"
   ]
  },
  {
   "cell_type": "code",
   "execution_count": 289,
   "metadata": {},
   "outputs": [
    {
     "name": "stdout",
     "output_type": "stream",
     "text": [
      "Value for var1 = 3, Value for var2 = 1, Var1 = CT, Var2 = LT, Likelihood Ratio = 1.0421836228287842\n",
      "Value for var1 = 3, Value for var2 = 2, Var1 = CT, Var2 = LT, Likelihood Ratio = 1.011111111111111\n",
      "Value for var1 = 3, Value for var2 = 3, Var1 = CT, Var2 = LT, Likelihood Ratio = 4.662857142857143\n",
      "Value for var1 = 0, Value for var2 = 3, Var1 = CT, Var2 = TC, Likelihood Ratio = 0.9394708227618702\n",
      "Value for var1 = 1, Value for var2 = 3, Var1 = CT, Var2 = TC, Likelihood Ratio = 0.17836156239198064\n",
      "Value for var1 = 3, Value for var2 = 2, Var1 = CT, Var2 = TC, Likelihood Ratio = 0.6655629139072848\n",
      "Value for var1 = 3, Value for var2 = 3, Var1 = CT, Var2 = TC, Likelihood Ratio = 7.797101449275361\n",
      "Value for var1 = 0, Value for var2 = 1, Var1 = CT, Var2 = CU, Likelihood Ratio = 0.8595505617977527\n",
      "Value for var1 = 0, Value for var2 = 2, Var1 = CT, Var2 = CU, Likelihood Ratio = 4.739495798319328\n",
      "Value for var1 = 0, Value for var2 = 3, Var1 = CT, Var2 = CU, Likelihood Ratio = 1.396276595744681\n",
      "Value for var1 = 0, Value for var2 = 1, Var1 = CT, Var2 = TA, Likelihood Ratio = 0.48648648648648646\n",
      "Value for var1 = 0, Value for var2 = 2, Var1 = CT, Var2 = TA, Likelihood Ratio = 2.4768518518518516\n",
      "Value for var1 = 0, Value for var2 = 3, Var1 = CT, Var2 = TA, Likelihood Ratio = 1.2897196261682242\n",
      "Value for var1 = 1, Value for var2 = 1, Var1 = CT, Var2 = TA, Likelihood Ratio = 0.6652173913043478\n",
      "Value for var1 = 1, Value for var2 = 2, Var1 = CT, Var2 = TA, Likelihood Ratio = 1.2254901960784312\n",
      "Value for var1 = 1, Value for var2 = 3, Var1 = CT, Var2 = TA, Likelihood Ratio = 1.0933333333333335\n",
      "Value for var1 = 2, Value for var2 = 1, Var1 = CT, Var2 = TA, Likelihood Ratio = 0.0\n",
      "Value for var1 = 2, Value for var2 = 3, Var1 = CT, Var2 = TA, Likelihood Ratio = 1.9047619047619047\n",
      "Value for var1 = 3, Value for var2 = 1, Var1 = CT, Var2 = TA, Likelihood Ratio = 0.46428571428571425\n",
      "Value for var1 = 3, Value for var2 = 2, Var1 = CT, Var2 = TA, Likelihood Ratio = 2.1634615384615388\n",
      "Value for var1 = 3, Value for var2 = 3, Var1 = CT, Var2 = TA, Likelihood Ratio = 1.2444444444444442\n",
      "Value for var1 = 0, Value for var2 = 1, Var1 = CT, Var2 = User_Status, Likelihood Ratio = 3.511888717751251\n",
      "Value for var1 = 1, Value for var2 = 1, Var1 = CT, Var2 = User_Status, Likelihood Ratio = 0.4415200018214521\n",
      "Value for var1 = 3, Value for var2 = 1, Var1 = CT, Var2 = User_Status, Likelihood Ratio = 2.862453531598513\n"
     ]
    }
   ],
   "source": [
    "for var in var_list:\n",
    "    display_likelihoods(var1,var)"
   ]
  },
  {
   "cell_type": "code",
   "execution_count": 290,
   "metadata": {},
   "outputs": [
    {
     "name": "stdout",
     "output_type": "stream",
     "text": [
      "Value for var1 = 0, Value for var2 = 1, Var1 = TA, Var2 = LT, Likelihood Ratio = 3.856115107913669\n",
      "Value for var1 = 0, Value for var2 = 2, Var1 = TA, Var2 = LT, Likelihood Ratio = 0.125\n",
      "Value for var1 = 0, Value for var2 = 3, Var1 = TA, Var2 = LT, Likelihood Ratio = 4.366666666666666\n",
      "Value for var1 = 1, Value for var2 = 1, Var1 = TA, Var2 = LT, Likelihood Ratio = 9.6343984962406\n",
      "Value for var1 = 1, Value for var2 = 2, Var1 = TA, Var2 = LT, Likelihood Ratio = 0.0\n",
      "Value for var1 = 2, Value for var2 = 1, Var1 = TA, Var2 = LT, Likelihood Ratio = 2.150542495479204\n",
      "Value for var1 = 2, Value for var2 = 2, Var1 = TA, Var2 = LT, Likelihood Ratio = 0.5258215962441315\n",
      "Value for var1 = 2, Value for var2 = 3, Var1 = TA, Var2 = LT, Likelihood Ratio = 1.2750000000000001\n",
      "Value for var1 = 3, Value for var2 = 1, Var1 = TA, Var2 = LT, Likelihood Ratio = 1.405328798185941\n",
      "Value for var1 = 3, Value for var2 = 2, Var1 = TA, Var2 = LT, Likelihood Ratio = 0.7567567567567568\n",
      "Value for var1 = 3, Value for var2 = 3, Var1 = TA, Var2 = LT, Likelihood Ratio = 0.9333333333333333\n",
      "Value for var1 = 0, Value for var2 = 1, Var1 = TA, Var2 = TC, Likelihood Ratio = 0.15522388059701492\n",
      "Value for var1 = 0, Value for var2 = 2, Var1 = TA, Var2 = TC, Likelihood Ratio = 2.6996336996337\n",
      "Value for var1 = 0, Value for var2 = 3, Var1 = TA, Var2 = TC, Likelihood Ratio = 0.7792207792207791\n",
      "Value for var1 = 1, Value for var2 = 1, Var1 = TA, Var2 = TC, Likelihood Ratio = 0.0\n",
      "Value for var1 = 1, Value for var2 = 3, Var1 = TA, Var2 = TC, Likelihood Ratio = 0.6554621848739496\n",
      "Value for var1 = 2, Value for var2 = 1, Var1 = TA, Var2 = TC, Likelihood Ratio = 0.3311861743912019\n",
      "Value for var1 = 2, Value for var2 = 2, Var1 = TA, Var2 = TC, Likelihood Ratio = 1.7047152194211017\n",
      "Value for var1 = 2, Value for var2 = 3, Var1 = TA, Var2 = TC, Likelihood Ratio = 0.8197903014416775\n",
      "Value for var1 = 3, Value for var2 = 1, Var1 = TA, Var2 = TC, Likelihood Ratio = 1.103329506314581\n",
      "Value for var1 = 3, Value for var2 = 2, Var1 = TA, Var2 = TC, Likelihood Ratio = 1.2350230414746544\n",
      "Value for var1 = 3, Value for var2 = 3, Var1 = TA, Var2 = TC, Likelihood Ratio = 0.8214285714285715\n",
      "Value for var1 = 0, Value for var2 = 1, Var1 = TA, Var2 = CU, Likelihood Ratio = 0.4108922927303671\n",
      "Value for var1 = 0, Value for var2 = 2, Var1 = TA, Var2 = CU, Likelihood Ratio = 4.978021978021978\n",
      "Value for var1 = 0, Value for var2 = 3, Var1 = TA, Var2 = CU, Likelihood Ratio = 1.390728476821192\n",
      "Value for var1 = 1, Value for var2 = 1, Var1 = TA, Var2 = CU, Likelihood Ratio = 0.0\n",
      "Value for var1 = 1, Value for var2 = 3, Var1 = TA, Var2 = CU, Likelihood Ratio = 1.4554455445544554\n",
      "Value for var1 = 2, Value for var2 = 1, Var1 = TA, Var2 = CU, Likelihood Ratio = 0.5513146734520781\n",
      "Value for var1 = 2, Value for var2 = 2, Var1 = TA, Var2 = CU, Likelihood Ratio = 3.0\n",
      "Value for var1 = 2, Value for var2 = 3, Var1 = TA, Var2 = CU, Likelihood Ratio = 1.4\n",
      "Value for var1 = 3, Value for var2 = 1, Var1 = TA, Var2 = CU, Likelihood Ratio = 0.6372549019607843\n",
      "Value for var1 = 3, Value for var2 = 2, Var1 = TA, Var2 = CU, Likelihood Ratio = 1.3571428571428572\n",
      "Value for var1 = 3, Value for var2 = 3, Var1 = TA, Var2 = CU, Likelihood Ratio = 1.1052631578947367\n",
      "Value for var1 = 0, Value for var2 = 1, Var1 = TA, Var2 = CT, Likelihood Ratio = 2.279279279279279\n",
      "Value for var1 = 0, Value for var2 = 2, Var1 = TA, Var2 = CT, Likelihood Ratio = 0.14130434782608695\n",
      "Value for var1 = 0, Value for var2 = 3, Var1 = TA, Var2 = CT, Likelihood Ratio = 3.652173913043478\n",
      "Value for var1 = 1, Value for var2 = 1, Var1 = TA, Var2 = CT, Likelihood Ratio = 3.1166666666666667\n",
      "Value for var1 = 1, Value for var2 = 2, Var1 = TA, Var2 = CT, Likelihood Ratio = 0.0\n",
      "Value for var1 = 2, Value for var2 = 1, Var1 = TA, Var2 = CT, Likelihood Ratio = 1.542056074766355\n",
      "Value for var1 = 2, Value for var2 = 2, Var1 = TA, Var2 = CT, Likelihood Ratio = 0.4136363636363637\n",
      "Value for var1 = 2, Value for var2 = 3, Var1 = TA, Var2 = CT, Likelihood Ratio = 1.5372670807453417\n",
      "Value for var1 = 3, Value for var2 = 1, Var1 = TA, Var2 = CT, Likelihood Ratio = 1.3072463768115943\n",
      "Value for var1 = 3, Value for var2 = 2, Var1 = TA, Var2 = CT, Likelihood Ratio = 0.720620842572062\n",
      "Value for var1 = 3, Value for var2 = 3, Var1 = TA, Var2 = CT, Likelihood Ratio = 1.0043478260869565\n",
      "Value for var1 = 0, Value for var2 = 1, Var1 = TA, Var2 = User_Status, Likelihood Ratio = 3.0185567010309278\n",
      "Value for var1 = 1, Value for var2 = 1, Var1 = TA, Var2 = User_Status, Likelihood Ratio = 0.0\n",
      "Value for var1 = 2, Value for var2 = 1, Var1 = TA, Var2 = User_Status, Likelihood Ratio = 2.324232081911263\n",
      "Value for var1 = 3, Value for var2 = 1, Var1 = TA, Var2 = User_Status, Likelihood Ratio = 2.3061224489795915\n"
     ]
    }
   ],
   "source": [
    "var1 = 'TA'\n",
    "var_list = ['LT', 'TC', 'CU', 'CT', 'User_Status']\n",
    "\n",
    "for var in var_list:\n",
    "    display_likelihoods(var1,var)"
   ]
  },
  {
   "cell_type": "code",
   "execution_count": 291,
   "metadata": {},
   "outputs": [
    {
     "name": "stdout",
     "output_type": "stream",
     "text": [
      "Value for var1 = 0, Value for var2 = 1, Var1 = User_Status, Var2 = LT, Likelihood Ratio = 10.195494376516972\n",
      "Value for var1 = 0, Value for var2 = 2, Var1 = User_Status, Var2 = LT, Likelihood Ratio = 0.0\n",
      "Value for var1 = 1, Value for var2 = 1, Var1 = User_Status, Var2 = LT, Likelihood Ratio = 0.22957477896926617\n",
      "Value for var1 = 1, Value for var2 = 2, Var1 = User_Status, Var2 = LT, Likelihood Ratio = 4.966666666666667\n",
      "Value for var1 = 1, Value for var2 = 3, Var1 = User_Status, Var2 = LT, Likelihood Ratio = 0.5432525951557093\n",
      "Value for var1 = 0, Value for var2 = 1, Var1 = User_Status, Var2 = TC, Likelihood Ratio = 0.0\n",
      "Value for var1 = 0, Value for var2 = 3, Var1 = User_Status, Var2 = TC, Likelihood Ratio = 0.6557555501042561\n",
      "Value for var1 = 1, Value for var2 = 2, Var1 = User_Status, Var2 = TC, Likelihood Ratio = 0.6033333333333334\n",
      "Value for var1 = 1, Value for var2 = 3, Var1 = User_Status, Var2 = TC, Likelihood Ratio = 1.1097766034110017\n",
      "Value for var1 = 0, Value for var2 = 1, Var1 = User_Status, Var2 = CU, Likelihood Ratio = 0.0\n",
      "Value for var1 = 0, Value for var2 = 3, Var1 = User_Status, Var2 = CU, Likelihood Ratio = 1.476878612716763\n",
      "Value for var1 = 1, Value for var2 = 1, Var1 = User_Status, Var2 = CU, Likelihood Ratio = 1.462085308056872\n",
      "Value for var1 = 1, Value for var2 = 2, Var1 = User_Status, Var2 = CU, Likelihood Ratio = 0.25210084033613445\n",
      "Value for var1 = 1, Value for var2 = 3, Var1 = User_Status, Var2 = CU, Likelihood Ratio = 0.0\n",
      "Value for var1 = 0, Value for var2 = 1, Var1 = User_Status, Var2 = CT, Likelihood Ratio = 3.1742347415334526\n",
      "Value for var1 = 0, Value for var2 = 2, Var1 = User_Status, Var2 = CT, Likelihood Ratio = 0.0\n",
      "Value for var1 = 1, Value for var2 = 1, Var1 = User_Status, Var2 = CT, Likelihood Ratio = 0.3990696293363686\n",
      "Value for var1 = 1, Value for var2 = 2, Var1 = User_Status, Var2 = CT, Likelihood Ratio = 3.479166666666667\n",
      "Value for var1 = 1, Value for var2 = 3, Var1 = User_Status, Var2 = CT, Likelihood Ratio = 0.6695652173913044\n",
      "Value for var1 = 0, Value for var2 = 1, Var1 = User_Status, Var2 = TA, Likelihood Ratio = 0.6989690721649484\n",
      "Value for var1 = 0, Value for var2 = 2, Var1 = User_Status, Var2 = TA, Likelihood Ratio = 1.309881089796442\n",
      "Value for var1 = 0, Value for var2 = 3, Var1 = User_Status, Var2 = TA, Likelihood Ratio = 1.0034129692832765\n",
      "Value for var1 = 1, Value for var2 = 1, Var1 = User_Status, Var2 = TA, Likelihood Ratio = 0.0\n",
      "Value for var1 = 1, Value for var2 = 3, Var1 = User_Status, Var2 = TA, Likelihood Ratio = 0.9955947136563876\n"
     ]
    }
   ],
   "source": [
    "var1 = 'User_Status'\n",
    "var_list = ['LT', 'TC', 'CU', 'CT', 'TA']\n",
    "\n",
    "for var in var_list:\n",
    "    display_likelihoods(var1,var)"
   ]
  },
  {
   "cell_type": "code",
   "execution_count": null,
   "metadata": {},
   "outputs": [],
   "source": []
  }
 ],
 "metadata": {
  "kernelspec": {
   "display_name": "Python 3",
   "language": "python",
   "name": "python3"
  },
  "language_info": {
   "codemirror_mode": {
    "name": "ipython",
    "version": 3
   },
   "file_extension": ".py",
   "mimetype": "text/x-python",
   "name": "python",
   "nbconvert_exporter": "python",
   "pygments_lexer": "ipython3",
   "version": "3.6.5"
  }
 },
 "nbformat": 4,
 "nbformat_minor": 2
}
