{
 "cells": [
  {
   "cell_type": "markdown",
   "metadata": {},
   "source": [
    "# Dishonest Internet User Exploratory Analysis\n",
    "**Author:** Kalea Sebesta<br>\n",
    "**Date:** 16 October 2018<br>\n",
    "\n",
    "**Acknowledgements:** 1. G. DíAngelo, S. Rampone, F. Palmieri, ìDeveloping a Trust Model for Pervasive Computing Based on Apriori Association Rules Learning and Bayesian Classificationî, SOCO ñ Soft Computing Journal, Vol.21, n.21, pp. 6297-6315, 2017.  DOI: 10.1007/s00500-016-2183-1 2. G. D'Angelo, S. Rampone and F. Palmieri, \"An Artificial Intelligence-Based Trust Model for Pervasive Computing,\" 2015 10th International Conference on P2P, Parallel, Grid, Cloud and Internet Computing (3PGCIC), Krakow, 2015, pp. 701-706. DOI: 10.1109/3PGCIC.2015.94<br>\n",
    "\n",
    "**Purpose:** The purpose of this notebook is to explore the dataset from UC Irvine Repository about dishonest internet users. This will primarily included descriptive statistics on the various text files within the repository.\n",
    "\n",
    "**Dataset:** UC Irvine https://archive.ics.uci.edu/ml/datasets/Dishonest+Internet+users+Dataset#<br>\n",
    "- CT - Counting Trust. It is used to count how many trustworthy transactions (belonging to a specific context) occur after the last untrustworthy transaction.\n",
    "- CU - Counting Un-trust. It is used to count how many untrustworthy transactions (belonging to a specific context) occur after the last trustworthy transaction.\n",
    "- LT - Last Time. It is used to take into account of the date at which the last experience in a specific context took place.\n",
    "- TC - Transactions Context. It is used to identify the type of transaction, such as game, e-commerce, social network and others.\n",
    "- TS - Trust Score. It  is the score that an entity gives to another entity at the end of each direct interaction.\n",
    "\n",
    "Files to explore:\n",
    "- Dishonest Internet users dataset.txt\n",
    "- BM_10%.txt\n",
    "- BM_20%.txt\n",
    "- BM_30%.txt\n",
    "- BM_40%.txt\n",
    "- BM_50%.txt\n",
    "- BS_10%.txt\n",
    "- BS_20%.txt\n",
    "- BS_30%.txt\n",
    "- BS_40%.txt\n",
    "- BS_50%.txt\n",
    "- RO_10%.txt\n",
    "- RO_20%.txt\n",
    "- RO_30%.txt\n",
    "- RO_40%.txt\n",
    "- RO_50%.txt\n",
    "- Dishonest Internet users dataset.txt\n",
    "\n",
    "According to the dataset description for the UC Irvine documentation: \n",
    "\n",
    "\"In pervasive computing the interacting users are not able to obtain information about the trustworthiness of each other. Thus, unfair users can act maliciously towards others. The proposed solution enables to evaluate the trustworthiness of each user by monitoring the behavior of each other during their interaction on the network. Because, there could be situation in which users have not historical data (tuples) for interacting with another one, it may get data (tuples) from third-parties who previously have had interaction with the inquired user.\n",
    "Nevertheless, the trustworthiness of such third party entities (recommenders) needs to be evaluated also. Indeed, they may act through attacks, such as: **Ballot Stuffing (BS)**, **Bad mouthing (BM)** , and **Random opinion (RO)**.\n",
    "Changing of the TS parameter for a number of rows in the dataset, and in according to a specific attack, allows to obtain different datasets useful for the recommenders trustworthiness evaluation.\n",
    "According to this, the following datasets are also provided:\n",
    "- BM_x%.txt  x is the percentage of unfair recommendations obtained by a BM attack. It ranges from 10 to 50.\n",
    "- BS_x%.txt  x is the percentage of unfair recommendations obtained by a BS attack. It ranges from 10 to 50.\n",
    "- RO_x%.txt  x is the percentage of unfair recommendations obtained by a BM attack. It ranges from 10 to 50.\"\n",
    "\n",
    "Attribute Information:\n",
    "- 1) CT {CT_range_1, CT_range_2, CT_range_3, CT_range_4}\n",
    "- 2) CU {CU_range_1, CU_range_2, CU_range_3, CU_range_4}\n",
    "- 3) LT {LT_range_1, LT_range_2, LT_range_3, LT_range_4}\n",
    "- 4) TC {sport, game, ECommerce, holiday}\n",
    "- 5) TS {trustworthy, untrustworthy}\n",
    "\n",
    "The numerical attributes (CT, CU, LT) was discretized. The data decription contains links to papers that explain how and why they wer discretized.\n"
   ]
  },
  {
   "cell_type": "markdown",
   "metadata": {},
   "source": [
    "## Import Packages & Read In Files\n",
    "All of the files were read into dataframes and then the length of these dataframes were checked. All of the dataframes have the same length (322). Essentially, all of the files were just different breakdowns for the type of attack of the same data. The column contents for each file were also investigated and it was seen an additional column was added which contained all null values and thus was dropped from each of the dataframes. Also, since the data was a textfile that didn't have headers, headers were created and added to the dataframes. From there, I created a new column TA which stands for type of attack and corresponds to whether the file was BS, BM, RO, or unknown."
   ]
  },
  {
   "cell_type": "code",
   "execution_count": 315,
   "metadata": {},
   "outputs": [],
   "source": [
    "#import packages\n",
    "import os\n",
    "import pandas as pd\n",
    "import pandas_profiling as pp\n",
    "import numpy as np\n",
    "%matplotlib inline\n",
    "import matplotlib.pyplot as plt\n",
    "import seaborn as sns"
   ]
  },
  {
   "cell_type": "code",
   "execution_count": 316,
   "metadata": {},
   "outputs": [],
   "source": [
    "#read in datasets\n",
    "path = '/Users/kaleasebesta/Documents/Machine Learning Datasets:Projects/Bayesian Network/UC Irvine Dishonest Internet DataSet'\n",
    "df = pd.read_csv(path + '/Dishonest Internet users dataset.txt', header = None, sep = ' ')\n",
    "BM_10 = pd.read_csv(path +'/BM_10%.txt', header = None, sep = ' ')\n",
    "BM_20 = pd.read_csv(path + '/BM_20%.txt', header = None, sep = ' ')\n",
    "BM_30 = pd.read_csv(path + '/BM_30%.txt', header = None, sep = ' ')\n",
    "BM_40 = pd.read_csv(path + '/BM_40%.txt', header = None, sep = ' ')\n",
    "BM_50 = pd.read_csv(path + '/BM_50%.txt', header = None, sep = ' ')\n",
    "BS_10 = pd.read_csv(path + '/BS_10%.txt', header = None, sep = ' ')\n",
    "BS_20 = pd.read_csv(path + '/BS_20%.txt', header = None, sep = ' ')\n",
    "BS_30 = pd.read_csv(path + '/BS_30%.txt', header = None, sep = ' ')\n",
    "BS_40 = pd.read_csv(path + '/BS_40%.txt', header = None, sep = ' ')\n",
    "BS_50 = pd.read_csv(path + '/BS_50%.txt', header = None, sep = ' ')\n",
    "RO_10 = pd.read_csv(path + '/RO_10%.txt', header = None, sep = ' ')\n",
    "RO_20 = pd.read_csv(path + '/RO_20%.txt', header = None, sep = ' ')\n",
    "RO_30 = pd.read_csv(path + '/RO_30%.txt', header = None, sep = ' ')\n",
    "RO_40 = pd.read_csv(path + '/RO_40%.txt', header = None, sep = ' ')\n",
    "RO_50 = pd.read_csv(path + '/RO_50%.txt', header = None, sep = ' ')"
   ]
  },
  {
   "cell_type": "markdown",
   "metadata": {},
   "source": [
    "### Determine Length of Dataframes"
   ]
  },
  {
   "cell_type": "code",
   "execution_count": 317,
   "metadata": {},
   "outputs": [
    {
     "name": "stdout",
     "output_type": "stream",
     "text": [
      "Length of BM_10: 322\n",
      "Length of BM_20: 322\n",
      "Length of BM_30: 322\n",
      "Length of BM_40: 322\n",
      "Length of BM_50: 322\n",
      "Length of BS_10: 322\n",
      "Length of BS_20: 322\n",
      "Length of BS_30: 322\n",
      "Length of BS_40: 322\n",
      "Length of BS_50: 322\n",
      "Length of RO_10: 322\n",
      "Length of RO_20: 322\n",
      "Length of RO_30: 322\n",
      "Length of RO_40: 322\n",
      "Length of RO_50: 322\n",
      "Length of Dishonest Dataset: 322\n"
     ]
    }
   ],
   "source": [
    "arr = os.listdir(path)\n",
    "arr.remove('DataSetDescription.txt') \n",
    "arr.remove('Dishonest Internet users dataset.txt' )\n",
    "\n",
    "dataframes = [BM_10, BM_20, BM_30, BM_40, BM_50,\n",
    "              BS_10, BS_20, BS_30, BS_40, BS_50,\n",
    "              RO_10, RO_20, RO_30, RO_40, RO_50]\n",
    "new_arr = []\n",
    "for file in arr:\n",
    "    new_arr.append(file[:5])\n",
    "new_arr.sort()\n",
    "ind = 0\n",
    "for i in new_arr:\n",
    "    print(\"Length of {}: {}\".format(i, len(dataframes[ind])))\n",
    "    ind += ind\n",
    "print('Length of Dishonest Dataset: {}'.format(len(df)))"
   ]
  },
  {
   "cell_type": "markdown",
   "metadata": {},
   "source": [
    "### Check the Column Headings of Dataframes"
   ]
  },
  {
   "cell_type": "code",
   "execution_count": 318,
   "metadata": {},
   "outputs": [
    {
     "data": {
      "text/html": [
       "<div>\n",
       "<style scoped>\n",
       "    .dataframe tbody tr th:only-of-type {\n",
       "        vertical-align: middle;\n",
       "    }\n",
       "\n",
       "    .dataframe tbody tr th {\n",
       "        vertical-align: top;\n",
       "    }\n",
       "\n",
       "    .dataframe thead th {\n",
       "        text-align: right;\n",
       "    }\n",
       "</style>\n",
       "<table border=\"1\" class=\"dataframe\">\n",
       "  <thead>\n",
       "    <tr style=\"text-align: right;\">\n",
       "      <th></th>\n",
       "      <th>0</th>\n",
       "      <th>1</th>\n",
       "      <th>2</th>\n",
       "      <th>3</th>\n",
       "      <th>4</th>\n",
       "    </tr>\n",
       "  </thead>\n",
       "  <tbody>\n",
       "    <tr>\n",
       "      <th>0</th>\n",
       "      <td>CT_range_4</td>\n",
       "      <td>CU_range_1</td>\n",
       "      <td>LT_range_4</td>\n",
       "      <td>sport</td>\n",
       "      <td>untrustworthy</td>\n",
       "    </tr>\n",
       "  </tbody>\n",
       "</table>\n",
       "</div>"
      ],
      "text/plain": [
       "            0           1           2      3              4\n",
       "0  CT_range_4  CU_range_1  LT_range_4  sport  untrustworthy"
      ]
     },
     "execution_count": 318,
     "metadata": {},
     "output_type": "execute_result"
    }
   ],
   "source": [
    "#check the format of the dataframes\n",
    "df.head(1)"
   ]
  },
  {
   "cell_type": "code",
   "execution_count": 319,
   "metadata": {},
   "outputs": [
    {
     "data": {
      "text/html": [
       "<div>\n",
       "<style scoped>\n",
       "    .dataframe tbody tr th:only-of-type {\n",
       "        vertical-align: middle;\n",
       "    }\n",
       "\n",
       "    .dataframe tbody tr th {\n",
       "        vertical-align: top;\n",
       "    }\n",
       "\n",
       "    .dataframe thead th {\n",
       "        text-align: right;\n",
       "    }\n",
       "</style>\n",
       "<table border=\"1\" class=\"dataframe\">\n",
       "  <thead>\n",
       "    <tr style=\"text-align: right;\">\n",
       "      <th></th>\n",
       "      <th>0</th>\n",
       "      <th>1</th>\n",
       "      <th>2</th>\n",
       "      <th>3</th>\n",
       "      <th>4</th>\n",
       "      <th>5</th>\n",
       "      <th>6</th>\n",
       "    </tr>\n",
       "  </thead>\n",
       "  <tbody>\n",
       "    <tr>\n",
       "      <th>0</th>\n",
       "      <td>CT_range_4</td>\n",
       "      <td>CU_range_1</td>\n",
       "      <td>LT_range_4</td>\n",
       "      <td>sport</td>\n",
       "      <td>untrustworthy</td>\n",
       "      <td>fair</td>\n",
       "      <td>NaN</td>\n",
       "    </tr>\n",
       "  </tbody>\n",
       "</table>\n",
       "</div>"
      ],
      "text/plain": [
       "            0           1           2      3              4     5   6\n",
       "0  CT_range_4  CU_range_1  LT_range_4  sport  untrustworthy  fair NaN"
      ]
     },
     "execution_count": 319,
     "metadata": {},
     "output_type": "execute_result"
    }
   ],
   "source": [
    "bm10.head(1)"
   ]
  },
  {
   "cell_type": "code",
   "execution_count": 320,
   "metadata": {},
   "outputs": [
    {
     "data": {
      "text/html": [
       "<div>\n",
       "<style scoped>\n",
       "    .dataframe tbody tr th:only-of-type {\n",
       "        vertical-align: middle;\n",
       "    }\n",
       "\n",
       "    .dataframe tbody tr th {\n",
       "        vertical-align: top;\n",
       "    }\n",
       "\n",
       "    .dataframe thead th {\n",
       "        text-align: right;\n",
       "    }\n",
       "</style>\n",
       "<table border=\"1\" class=\"dataframe\">\n",
       "  <thead>\n",
       "    <tr style=\"text-align: right;\">\n",
       "      <th></th>\n",
       "      <th>0</th>\n",
       "      <th>1</th>\n",
       "      <th>2</th>\n",
       "      <th>3</th>\n",
       "      <th>4</th>\n",
       "      <th>5</th>\n",
       "      <th>6</th>\n",
       "    </tr>\n",
       "  </thead>\n",
       "  <tbody>\n",
       "    <tr>\n",
       "      <th>0</th>\n",
       "      <td>CT_range_4</td>\n",
       "      <td>CU_range_1</td>\n",
       "      <td>LT_range_4</td>\n",
       "      <td>sport</td>\n",
       "      <td>untrustworthy</td>\n",
       "      <td>fair</td>\n",
       "      <td>NaN</td>\n",
       "    </tr>\n",
       "  </tbody>\n",
       "</table>\n",
       "</div>"
      ],
      "text/plain": [
       "            0           1           2      3              4     5   6\n",
       "0  CT_range_4  CU_range_1  LT_range_4  sport  untrustworthy  fair NaN"
      ]
     },
     "execution_count": 320,
     "metadata": {},
     "output_type": "execute_result"
    }
   ],
   "source": [
    "bs10.head(1)"
   ]
  },
  {
   "cell_type": "code",
   "execution_count": 321,
   "metadata": {},
   "outputs": [
    {
     "data": {
      "text/html": [
       "<div>\n",
       "<style scoped>\n",
       "    .dataframe tbody tr th:only-of-type {\n",
       "        vertical-align: middle;\n",
       "    }\n",
       "\n",
       "    .dataframe tbody tr th {\n",
       "        vertical-align: top;\n",
       "    }\n",
       "\n",
       "    .dataframe thead th {\n",
       "        text-align: right;\n",
       "    }\n",
       "</style>\n",
       "<table border=\"1\" class=\"dataframe\">\n",
       "  <thead>\n",
       "    <tr style=\"text-align: right;\">\n",
       "      <th></th>\n",
       "      <th>0</th>\n",
       "      <th>1</th>\n",
       "      <th>2</th>\n",
       "      <th>3</th>\n",
       "      <th>4</th>\n",
       "      <th>5</th>\n",
       "      <th>6</th>\n",
       "    </tr>\n",
       "  </thead>\n",
       "  <tbody>\n",
       "    <tr>\n",
       "      <th>0</th>\n",
       "      <td>CT_range_4</td>\n",
       "      <td>CU_range_1</td>\n",
       "      <td>LT_range_4</td>\n",
       "      <td>sport</td>\n",
       "      <td>untrustworthy</td>\n",
       "      <td>fair</td>\n",
       "      <td>NaN</td>\n",
       "    </tr>\n",
       "  </tbody>\n",
       "</table>\n",
       "</div>"
      ],
      "text/plain": [
       "            0           1           2      3              4     5   6\n",
       "0  CT_range_4  CU_range_1  LT_range_4  sport  untrustworthy  fair NaN"
      ]
     },
     "execution_count": 321,
     "metadata": {},
     "output_type": "execute_result"
    }
   ],
   "source": [
    "ro10.head(1)"
   ]
  },
  {
   "cell_type": "markdown",
   "metadata": {},
   "source": [
    "### Create Functions \n",
    "The first function was created to rename the headers from integers to meaningful column names. The second function takes in a dataframe and the type of attack and creates a new column with the appropreate type of attack designated. This will help in identifying the type of attack once the dataframes are merged together."
   ]
  },
  {
   "cell_type": "code",
   "execution_count": 322,
   "metadata": {},
   "outputs": [],
   "source": [
    "#give column names\n",
    "def give_column_names(df):\n",
    "    df = df.rename(index=str, columns={0: \"CT\", 1: \"CU\", 2: \"LT\", 3: \"TC\", 4:\"TS\", 5: \"User_Status\"})\n",
    "    return df\n",
    "\n",
    "#add column type of attack to the dataframes to help get information when all dataframes are merged together\n",
    "def add_column(df, ta):\n",
    "    if ta == 'BM':\n",
    "        df['TA'] = 'BM'\n",
    "    elif ta == 'BS':\n",
    "        df['TA'] = 'BS'\n",
    "    elif ta == 'RO':\n",
    "        df['TA'] = 'RO'\n",
    "    else:\n",
    "        df['TA'] = 'Unknown'\n",
    "    return df"
   ]
  },
  {
   "cell_type": "markdown",
   "metadata": {},
   "source": [
    "### Apply Functions and Merge Dataframes"
   ]
  },
  {
   "cell_type": "code",
   "execution_count": 323,
   "metadata": {},
   "outputs": [],
   "source": [
    "for df in [BM_10, BM_20, BM_30, BM_40, BM_50]:\n",
    "    df = add_column(df, 'BM')\n",
    "for df in [BS_10, BS_20, BS_30, BS_40, BS_50]:\n",
    "    df = add_column(df, 'BS')\n",
    "for df in [RO_10, RO_20, RO_30, RO_40, RO_50]:\n",
    "    df = add_column(df, 'RO')\n",
    "df = add_column(df, 'Unknown')"
   ]
  },
  {
   "cell_type": "code",
   "execution_count": 324,
   "metadata": {},
   "outputs": [],
   "source": [
    "frames = []\n",
    "for dfs in dataframes:\n",
    "    n = give_column_names(dfs)\n",
    "    frames.append(n)\n",
    "\n",
    "result = pd.concat(frames, sort = False)"
   ]
  },
  {
   "cell_type": "markdown",
   "metadata": {},
   "source": [
    "### Additional Cleaning\n",
    "Column 6 had only null values and thus was dropped from the dataframe"
   ]
  },
  {
   "cell_type": "code",
   "execution_count": 325,
   "metadata": {},
   "outputs": [
    {
     "name": "stdout",
     "output_type": "stream",
     "text": [
      "nan\n"
     ]
    }
   ],
   "source": [
    "#check the 6th column if all nan drop it\n",
    "print(result[6].unique().item())\n",
    "result = result.drop([6], axis = 1)"
   ]
  },
  {
   "cell_type": "code",
   "execution_count": 326,
   "metadata": {},
   "outputs": [
    {
     "data": {
      "text/html": [
       "<div>\n",
       "<style scoped>\n",
       "    .dataframe tbody tr th:only-of-type {\n",
       "        vertical-align: middle;\n",
       "    }\n",
       "\n",
       "    .dataframe tbody tr th {\n",
       "        vertical-align: top;\n",
       "    }\n",
       "\n",
       "    .dataframe thead th {\n",
       "        text-align: right;\n",
       "    }\n",
       "</style>\n",
       "<table border=\"1\" class=\"dataframe\">\n",
       "  <thead>\n",
       "    <tr style=\"text-align: right;\">\n",
       "      <th></th>\n",
       "      <th>CT</th>\n",
       "      <th>CU</th>\n",
       "      <th>LT</th>\n",
       "      <th>TC</th>\n",
       "      <th>TS</th>\n",
       "      <th>User_Status</th>\n",
       "      <th>TA</th>\n",
       "    </tr>\n",
       "  </thead>\n",
       "  <tbody>\n",
       "    <tr>\n",
       "      <th>0</th>\n",
       "      <td>CT_range_4</td>\n",
       "      <td>CU_range_1</td>\n",
       "      <td>LT_range_4</td>\n",
       "      <td>sport</td>\n",
       "      <td>untrustworthy</td>\n",
       "      <td>fair</td>\n",
       "      <td>BM</td>\n",
       "    </tr>\n",
       "    <tr>\n",
       "      <th>1</th>\n",
       "      <td>CT_range_4</td>\n",
       "      <td>CU_range_1</td>\n",
       "      <td>LT_range_4</td>\n",
       "      <td>sport</td>\n",
       "      <td>untrustworthy</td>\n",
       "      <td>fair</td>\n",
       "      <td>BM</td>\n",
       "    </tr>\n",
       "    <tr>\n",
       "      <th>2</th>\n",
       "      <td>CT_range_1</td>\n",
       "      <td>CU_range_4</td>\n",
       "      <td>LT_range_4</td>\n",
       "      <td>sport</td>\n",
       "      <td>trustworthy</td>\n",
       "      <td>fair</td>\n",
       "      <td>BM</td>\n",
       "    </tr>\n",
       "    <tr>\n",
       "      <th>3</th>\n",
       "      <td>CT_range_2</td>\n",
       "      <td>CU_range_1</td>\n",
       "      <td>LT_range_4</td>\n",
       "      <td>sport</td>\n",
       "      <td>trustworthy</td>\n",
       "      <td>fair</td>\n",
       "      <td>BM</td>\n",
       "    </tr>\n",
       "    <tr>\n",
       "      <th>4</th>\n",
       "      <td>CT_range_3</td>\n",
       "      <td>CU_range_1</td>\n",
       "      <td>LT_range_4</td>\n",
       "      <td>sport</td>\n",
       "      <td>trustworthy</td>\n",
       "      <td>fair</td>\n",
       "      <td>BM</td>\n",
       "    </tr>\n",
       "  </tbody>\n",
       "</table>\n",
       "</div>"
      ],
      "text/plain": [
       "           CT          CU          LT     TC             TS User_Status  TA\n",
       "0  CT_range_4  CU_range_1  LT_range_4  sport  untrustworthy        fair  BM\n",
       "1  CT_range_4  CU_range_1  LT_range_4  sport  untrustworthy        fair  BM\n",
       "2  CT_range_1  CU_range_4  LT_range_4  sport    trustworthy        fair  BM\n",
       "3  CT_range_2  CU_range_1  LT_range_4  sport    trustworthy        fair  BM\n",
       "4  CT_range_3  CU_range_1  LT_range_4  sport    trustworthy        fair  BM"
      ]
     },
     "execution_count": 326,
     "metadata": {},
     "output_type": "execute_result"
    }
   ],
   "source": [
    "result.head()"
   ]
  },
  {
   "cell_type": "markdown",
   "metadata": {},
   "source": [
    "## Explore Frequency Plots"
   ]
  },
  {
   "cell_type": "code",
   "execution_count": 327,
   "metadata": {},
   "outputs": [
    {
     "data": {
      "text/html": [
       "<div>\n",
       "<style scoped>\n",
       "    .dataframe tbody tr th:only-of-type {\n",
       "        vertical-align: middle;\n",
       "    }\n",
       "\n",
       "    .dataframe tbody tr th {\n",
       "        vertical-align: top;\n",
       "    }\n",
       "\n",
       "    .dataframe thead th {\n",
       "        text-align: right;\n",
       "    }\n",
       "</style>\n",
       "<table border=\"1\" class=\"dataframe\">\n",
       "  <thead>\n",
       "    <tr style=\"text-align: right;\">\n",
       "      <th></th>\n",
       "      <th>CT</th>\n",
       "      <th>CU</th>\n",
       "      <th>LT</th>\n",
       "      <th>TC</th>\n",
       "      <th>TS</th>\n",
       "      <th>User_Status</th>\n",
       "      <th>TA</th>\n",
       "    </tr>\n",
       "  </thead>\n",
       "  <tbody>\n",
       "    <tr>\n",
       "      <th>count</th>\n",
       "      <td>4830</td>\n",
       "      <td>4830</td>\n",
       "      <td>4830</td>\n",
       "      <td>4830</td>\n",
       "      <td>4830</td>\n",
       "      <td>4830</td>\n",
       "      <td>4830</td>\n",
       "    </tr>\n",
       "    <tr>\n",
       "      <th>unique</th>\n",
       "      <td>4</td>\n",
       "      <td>4</td>\n",
       "      <td>4</td>\n",
       "      <td>4</td>\n",
       "      <td>2</td>\n",
       "      <td>2</td>\n",
       "      <td>4</td>\n",
       "    </tr>\n",
       "    <tr>\n",
       "      <th>top</th>\n",
       "      <td>CT_range_1</td>\n",
       "      <td>CU_range_1</td>\n",
       "      <td>LT_range_1</td>\n",
       "      <td>holiday</td>\n",
       "      <td>trustworthy</td>\n",
       "      <td>fair</td>\n",
       "      <td>BS</td>\n",
       "    </tr>\n",
       "    <tr>\n",
       "      <th>freq</th>\n",
       "      <td>2145</td>\n",
       "      <td>3900</td>\n",
       "      <td>2010</td>\n",
       "      <td>1890</td>\n",
       "      <td>3178</td>\n",
       "      <td>4055</td>\n",
       "      <td>1610</td>\n",
       "    </tr>\n",
       "  </tbody>\n",
       "</table>\n",
       "</div>"
      ],
      "text/plain": [
       "                CT          CU          LT       TC           TS User_Status  \\\n",
       "count         4830        4830        4830     4830         4830        4830   \n",
       "unique           4           4           4        4            2           2   \n",
       "top     CT_range_1  CU_range_1  LT_range_1  holiday  trustworthy        fair   \n",
       "freq          2145        3900        2010     1890         3178        4055   \n",
       "\n",
       "          TA  \n",
       "count   4830  \n",
       "unique     4  \n",
       "top       BS  \n",
       "freq    1610  "
      ]
     },
     "execution_count": 327,
     "metadata": {},
     "output_type": "execute_result"
    }
   ],
   "source": [
    "result.describe()"
   ]
  },
  {
   "cell_type": "code",
   "execution_count": 299,
   "metadata": {},
   "outputs": [
    {
     "data": {
      "text/plain": [
       "<matplotlib.axes._subplots.AxesSubplot at 0x1a20f81400>"
      ]
     },
     "execution_count": 299,
     "metadata": {},
     "output_type": "execute_result"
    },
    {
     "data": {
      "image/png": "[encoded data removed]",
      "text/plain": [
       "<Figure size 432x288 with 1 Axes>"
      ]
     },
     "metadata": {},
     "output_type": "display_data"
    }
   ],
   "source": [
    "sns.countplot(x=\"CT\",hue=\"TS\", data=result)"
   ]
  },
  {
   "cell_type": "code",
   "execution_count": 300,
   "metadata": {},
   "outputs": [
    {
     "data": {
      "text/plain": [
       "<matplotlib.axes._subplots.AxesSubplot at 0x1a1f1ebda0>"
      ]
     },
     "execution_count": 300,
     "metadata": {},
     "output_type": "execute_result"
    },
    {
     "data": {
      "image/png": "[encoded data removed]",
      "text/plain": [
       "<Figure size 432x288 with 1 Axes>"
      ]
     },
     "metadata": {},
     "output_type": "display_data"
    }
   ],
   "source": [
    "sns.countplot(x=\"CU\",hue=\"TS\", data=result)"
   ]
  },
  {
   "cell_type": "code",
   "execution_count": 144,
   "metadata": {},
   "outputs": [],
   "source": [
    "#CU_range_5 needs to be changed to CU_range_2\n",
    "df = df.replace({'CU': {\"CU_range_5\": \"CU_range_2\"}})"
   ]
  },
  {
   "cell_type": "code",
   "execution_count": 301,
   "metadata": {},
   "outputs": [
    {
     "data": {
      "text/plain": [
       "<matplotlib.axes._subplots.AxesSubplot at 0x1a20f595c0>"
      ]
     },
     "execution_count": 301,
     "metadata": {},
     "output_type": "execute_result"
    },
    {
     "data": {
      "image/png": "[encoded data removed]",
      "text/plain": [
       "<Figure size 432x288 with 1 Axes>"
      ]
     },
     "metadata": {},
     "output_type": "display_data"
    }
   ],
   "source": [
    "sns.countplot(x=\"CU\",hue=\"TS\", data=result)"
   ]
  },
  {
   "cell_type": "code",
   "execution_count": 302,
   "metadata": {},
   "outputs": [
    {
     "data": {
      "text/plain": [
       "<matplotlib.axes._subplots.AxesSubplot at 0x1a1f63ab38>"
      ]
     },
     "execution_count": 302,
     "metadata": {},
     "output_type": "execute_result"
    },
    {
     "data": {
      "image/png": "[encoded data removed]",
      "text/plain": [
       "<Figure size 432x288 with 1 Axes>"
      ]
     },
     "metadata": {},
     "output_type": "display_data"
    }
   ],
   "source": [
    "sns.countplot(x=\"LT\",hue=\"TS\", data=result)"
   ]
  },
  {
   "cell_type": "code",
   "execution_count": 303,
   "metadata": {},
   "outputs": [
    {
     "data": {
      "text/plain": [
       "<matplotlib.axes._subplots.AxesSubplot at 0x1a1f63ee80>"
      ]
     },
     "execution_count": 303,
     "metadata": {},
     "output_type": "execute_result"
    },
    {
     "data": {
      "image/png": "[encoded data removed]",
      "text/plain": [
       "<Figure size 432x288 with 1 Axes>"
      ]
     },
     "metadata": {},
     "output_type": "display_data"
    }
   ],
   "source": [
    "sns.countplot(x=\"TC\",hue=\"TS\", data=result)"
   ]
  },
  {
   "cell_type": "code",
   "execution_count": 312,
   "metadata": {},
   "outputs": [
    {
     "data": {
      "text/plain": [
       "<matplotlib.axes._subplots.AxesSubplot at 0x1a2098fc88>"
      ]
     },
     "execution_count": 312,
     "metadata": {},
     "output_type": "execute_result"
    },
    {
     "data": {
      "image/png": "[encoded data removed]",
      "text/plain": [
       "<Figure size 432x288 with 1 Axes>"
      ]
     },
     "metadata": {},
     "output_type": "display_data"
    }
   ],
   "source": [
    "sns.countplot(x=\"TA\",hue=\"TS\", data=result)"
   ]
  },
  {
   "cell_type": "code",
   "execution_count": 304,
   "metadata": {},
   "outputs": [
    {
     "data": {
      "text/plain": [
       "<matplotlib.axes._subplots.AxesSubplot at 0x1a20a21128>"
      ]
     },
     "execution_count": 304,
     "metadata": {},
     "output_type": "execute_result"
    },
    {
     "data": {
      "image/png": "[encoded data removed]",
      "text/plain": [
       "<Figure size 432x288 with 1 Axes>"
      ]
     },
     "metadata": {},
     "output_type": "display_data"
    }
   ],
   "source": [
    "sns.countplot(x=\"TS\", data=result)"
   ]
  },
  {
   "cell_type": "code",
   "execution_count": 313,
   "metadata": {},
   "outputs": [
    {
     "data": {
      "text/plain": [
       "<matplotlib.axes._subplots.AxesSubplot at 0x1a1f4e03c8>"
      ]
     },
     "execution_count": 313,
     "metadata": {},
     "output_type": "execute_result"
    },
    {
     "data": {
      "image/png": "[encoded data removed]",
      "text/plain": [
       "<Figure size 432x288 with 1 Axes>"
      ]
     },
     "metadata": {},
     "output_type": "display_data"
    }
   ],
   "source": [
    "sns.countplot(x=\"TA\",hue=\"TC\", data=result)"
   ]
  },
  {
   "cell_type": "code",
   "execution_count": 305,
   "metadata": {},
   "outputs": [
    {
     "data": {
      "text/plain": [
       "<matplotlib.axes._subplots.AxesSubplot at 0x1a1ef13d30>"
      ]
     },
     "execution_count": 305,
     "metadata": {},
     "output_type": "execute_result"
    },
    {
     "data": {
      "image/png": "[encoded data removed]",
      "text/plain": [
       "<Figure size 432x288 with 1 Axes>"
      ]
     },
     "metadata": {},
     "output_type": "display_data"
    }
   ],
   "source": [
    "sns.countplot(x=\"TS\",hue=\"User_Status\", data=result)"
   ]
  },
  {
   "cell_type": "code",
   "execution_count": 306,
   "metadata": {},
   "outputs": [
    {
     "data": {
      "text/plain": [
       "<matplotlib.axes._subplots.AxesSubplot at 0x1a1f5d6278>"
      ]
     },
     "execution_count": 306,
     "metadata": {},
     "output_type": "execute_result"
    },
    {
     "data": {
      "image/png": "[encoded data removed]",
      "text/plain": [
       "<Figure size 432x288 with 1 Axes>"
      ]
     },
     "metadata": {},
     "output_type": "display_data"
    }
   ],
   "source": [
    "sns.countplot(x=\"User_Status\", data=result)"
   ]
  },
  {
   "cell_type": "code",
   "execution_count": 307,
   "metadata": {},
   "outputs": [
    {
     "data": {
      "text/plain": [
       "<matplotlib.axes._subplots.AxesSubplot at 0x1a20cdb400>"
      ]
     },
     "execution_count": 307,
     "metadata": {},
     "output_type": "execute_result"
    },
    {
     "data": {
      "image/png": "[encoded data removed]",
      "text/plain": [
       "<Figure size 432x288 with 1 Axes>"
      ]
     },
     "metadata": {},
     "output_type": "display_data"
    }
   ],
   "source": [
    "sns.countplot(x=\"CT\",hue=\"User_Status\", data=result)"
   ]
  },
  {
   "cell_type": "code",
   "execution_count": 308,
   "metadata": {},
   "outputs": [
    {
     "data": {
      "text/plain": [
       "<matplotlib.axes._subplots.AxesSubplot at 0x1a2190efd0>"
      ]
     },
     "execution_count": 308,
     "metadata": {},
     "output_type": "execute_result"
    },
    {
     "data": {
      "image/png": "[encoded data removed]",
      "text/plain": [
       "<Figure size 432x288 with 1 Axes>"
      ]
     },
     "metadata": {},
     "output_type": "display_data"
    }
   ],
   "source": [
    "sns.countplot(x=\"LT\",hue=\"User_Status\", data=result)"
   ]
  },
  {
   "cell_type": "code",
   "execution_count": 309,
   "metadata": {},
   "outputs": [
    {
     "data": {
      "text/plain": [
       "<matplotlib.axes._subplots.AxesSubplot at 0x1a20c95cc0>"
      ]
     },
     "execution_count": 309,
     "metadata": {},
     "output_type": "execute_result"
    },
    {
     "data": {
      "image/png": "[encoded data removed]",
      "text/plain": [
       "<Figure size 432x288 with 1 Axes>"
      ]
     },
     "metadata": {},
     "output_type": "display_data"
    }
   ],
   "source": [
    "sns.countplot(x=\"TC\",hue=\"User_Status\", data=result)"
   ]
  },
  {
   "cell_type": "code",
   "execution_count": 310,
   "metadata": {},
   "outputs": [
    {
     "data": {
      "text/plain": [
       "<matplotlib.axes._subplots.AxesSubplot at 0x1a20f3fcf8>"
      ]
     },
     "execution_count": 310,
     "metadata": {},
     "output_type": "execute_result"
    },
    {
     "data": {
      "image/png": "[encoded data removed]",
      "text/plain": [
       "<Figure size 432x288 with 1 Axes>"
      ]
     },
     "metadata": {},
     "output_type": "display_data"
    }
   ],
   "source": [
    "sns.countplot(x=\"TS\",hue=\"User_Status\", data=result)"
   ]
  },
  {
   "cell_type": "markdown",
   "metadata": {},
   "source": [
    "## Save File \n",
    "The cleaned and merged dataframe was saved to a csv to allow for future analysis to be conducted. "
   ]
  },
  {
   "cell_type": "code",
   "execution_count": 328,
   "metadata": {},
   "outputs": [],
   "source": [
    "#save dataframe\n",
    "result.to_csv('Dishonest_Internet_User_Expanded.csv', index = False)"
   ]
  }
 ],
 "metadata": {
  "kernelspec": {
   "display_name": "Python 3",
   "language": "python",
   "name": "python3"
  },
  "language_info": {
   "codemirror_mode": {
    "name": "ipython",
    "version": 3
   },
   "file_extension": ".py",
   "mimetype": "text/x-python",
   "name": "python",
   "nbconvert_exporter": "python",
   "pygments_lexer": "ipython3",
   "version": "3.6.5"
  }
 },
 "nbformat": 4,
 "nbformat_minor": 2
}
